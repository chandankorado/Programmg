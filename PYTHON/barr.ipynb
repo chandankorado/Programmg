{
 "cells": [
  {
   "cell_type": "code",
   "execution_count": null,
   "id": "45cbd952",
   "metadata": {},
   "outputs": [],
   "source": [
    "import numpy as np\n",
    "import matplotlib.pyplot as plt\n",
    "\n",
    "data = {'C':20,'C++':15,'Java':30,'Python':35}\n",
    "Courses = list(data.keys())\n",
    "Values = list(data.values())\n",
    "\n",
    "fig = plt.figure(figsize = (10, 5))\n",
    "\n",
    "plt.bar(Courses, Values, color ='maroon',width = 0.4)\n",
    "plt.xlabel(\"Courses offered\")\n",
    "plt.ylabel(\"No of student enrolled\")\n",
    "plt.title(\"Student enrolled in different courses\")\n",
    "plt.show()"
   ]
  }
 ],
 "metadata": {
  "kernelspec": {
   "display_name": "Python 3 (ipykernel)",
   "language": "python",
   "name": "python3"
  }
 },
 "nbformat": 4,
 "nbformat_minor": 5
}
